{
 "cells": [
  {
   "cell_type": "code",
   "execution_count": 5,
   "id": "563e7cdb",
   "metadata": {},
   "outputs": [
    {
     "name": "stdout",
     "output_type": "stream",
     "text": [
      "keuntungan gerald1 = 875000\n",
      "Persen keuntungan gerald1 = 5.384615384615385\n",
      "keuntungan gerald2 2075000\n",
      "Persen keuntungan gerald2 = 68500000.0\n"
     ]
    }
   ],
   "source": [
    "#Latihan 1.2\n",
    "\n",
    "jumlahEmas1 = 25\n",
    "\n",
    "hargaPertama = 650000\n",
    "hargaKedua = 685000\n",
    "keuntungan = (hargaKedua - hargaPertama) * jumlahEmas1\n",
    "print(\"keuntungan gerald1 =\", keuntungan)\n",
    "\n",
    "persen_keuntungan = (hargaKedua - hargaPertama)/ hargaPertama * 100\n",
    "print(\"Persen keuntungan gerald1 =\", persen_keuntungan)\n",
    "\n",
    "\n",
    "jumlahEmas2 = 15\n",
    "hargaKetiga = 715000\n",
    "emas_total = 40\n",
    "keuntungan2 = (hargaKetiga * (jumlahEmas2 + jumlahEmas1)) - ((jumlahEmas1 * hargaPertama) + (jumlahEmas2 * hargaKedua))\n",
    "print(\"keuntungan gerald2\",keuntungan2)\n",
    "\n",
    "persen_keuntungan2 = (hargaKetiga * hargaKedua)/hargaKetiga * 100\n",
    "print(\"Persen keuntungan gerald2 =\",persen_keuntungan2)"
   ]
  },
  {
   "cell_type": "code",
   "execution_count": null,
   "id": "a3cd36c3",
   "metadata": {},
   "outputs": [],
   "source": []
  }
 ],
 "metadata": {
  "kernelspec": {
   "display_name": "Python 3 (ipykernel)",
   "language": "python",
   "name": "python3"
  },
  "language_info": {
   "codemirror_mode": {
    "name": "ipython",
    "version": 3
   },
   "file_extension": ".py",
   "mimetype": "text/x-python",
   "name": "python",
   "nbconvert_exporter": "python",
   "pygments_lexer": "ipython3",
   "version": "3.11.5"
  }
 },
 "nbformat": 4,
 "nbformat_minor": 5
}
