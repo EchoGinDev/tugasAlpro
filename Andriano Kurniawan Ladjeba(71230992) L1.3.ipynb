{
 "cells": [
  {
   "cell_type": "code",
   "execution_count": 2,
   "id": "0b814f41",
   "metadata": {},
   "outputs": [
    {
     "name": "stdout",
     "output_type": "stream",
     "text": [
      "Hasil dari tahun ke 1 : 220000000.00000003\n",
      "Hasil dari tahun ke 2 : 220000000.00000003\n",
      "Hasil dari tahun ke 3 : 266200000.0000001\n",
      "Hasil dari tahun ke 4 : 292820000.00000006\n",
      "Hasil dari tahun ke 5 : 322102000.0000001\n",
      "Hasil dari tahun ke 6 : 354312200.0000002\n",
      "Hasil dari tahun ke 7 : 389743420.00000024\n",
      "Hasil dari tahun ke 8 : 428717762.0000003\n"
     ]
    }
   ],
   "source": [
    "P = 200000000\n",
    "r = 0.1\n",
    "n = 1\n",
    "\n",
    "t = 1\n",
    "A = P * (1 + r/n) ** (n*t) \n",
    "print(\"Hasil dari tahun ke 1 :\" ,A)\n",
    "\n",
    "t = 2\n",
    "A2 = P * (1 + r/n) ** (n*t) \n",
    "print(\"Hasil dari tahun ke 2 :\" ,A)\n",
    "\n",
    "t = 3\n",
    "A = P * (1 + r/n) ** (n*t) \n",
    "print(\"Hasil dari tahun ke 3 :\" ,A)\n",
    "\n",
    "t = 4\n",
    "A = P * (1 + r/n) ** (n*t) \n",
    "print(\"Hasil dari tahun ke 4 :\", A)\n",
    "\n",
    "t = 5\n",
    "A = P * (1 + r/n) ** (n*t) \n",
    "print(\"Hasil dari tahun ke 5 :\" ,A)\n",
    "\n",
    "t = 6\n",
    "A = P * (1 + r/n) ** (n*t) \n",
    "print(\"Hasil dari tahun ke 6 :\" ,A)\n",
    "\n",
    "t = 7\n",
    "A = P * (1 + r/n) ** (n*t) \n",
    "print(\"Hasil dari tahun ke 7 :\" ,A)\n",
    "\n",
    "t = 8\n",
    "A = P * (1 + r/n) ** (n*t) \n",
    "print(\"Hasil dari tahun ke 8 :\" ,A)"
   ]
  }
 ],
 "metadata": {
  "kernelspec": {
   "display_name": "Python 3 (ipykernel)",
   "language": "python",
   "name": "python3"
  },
  "language_info": {
   "codemirror_mode": {
    "name": "ipython",
    "version": 3
   },
   "file_extension": ".py",
   "mimetype": "text/x-python",
   "name": "python",
   "nbconvert_exporter": "python",
   "pygments_lexer": "ipython3",
   "version": "3.11.5"
  }
 },
 "nbformat": 4,
 "nbformat_minor": 5
}
